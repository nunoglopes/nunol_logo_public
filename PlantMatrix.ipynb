{
 "cells": [
  {
   "cell_type": "markdown",
   "metadata": {},
   "source": [
    "# Gráficos Op Systs Matrix Plants"
   ]
  },
  {
   "cell_type": "code",
   "execution_count": 2,
   "metadata": {},
   "outputs": [],
   "source": [
    "import matplotlib.pyplot as plt\n",
    "import pandas as pd\n",
    "import seaborn as sns\n",
    "import numpy as np\n",
    "# import bibliotecas"
   ]
  },
  {
   "cell_type": "code",
   "execution_count": 3,
   "metadata": {},
   "outputs": [
    {
     "data": {
      "text/html": [
       "<div>\n",
       "<style scoped>\n",
       "    .dataframe tbody tr th:only-of-type {\n",
       "        vertical-align: middle;\n",
       "    }\n",
       "\n",
       "    .dataframe tbody tr th {\n",
       "        vertical-align: top;\n",
       "    }\n",
       "\n",
       "    .dataframe thead th {\n",
       "        text-align: right;\n",
       "    }\n",
       "</style>\n",
       "<table border=\"1\" class=\"dataframe\">\n",
       "  <thead>\n",
       "    <tr style=\"text-align: right;\">\n",
       "      <th></th>\n",
       "      <th>Country</th>\n",
       "      <th>Name</th>\n",
       "      <th>SAP ID</th>\n",
       "      <th>Total</th>\n",
       "      <th>Complexity</th>\n",
       "      <th>Ebitda</th>\n",
       "      <th>Effort</th>\n",
       "    </tr>\n",
       "  </thead>\n",
       "  <tbody>\n",
       "    <tr>\n",
       "      <th>0</th>\n",
       "      <td>United States</td>\n",
       "      <td>Tabler Station</td>\n",
       "      <td>L090</td>\n",
       "      <td>0.81</td>\n",
       "      <td>0.1450</td>\n",
       "      <td>0.5</td>\n",
       "      <td>0.1650</td>\n",
       "    </tr>\n",
       "    <tr>\n",
       "      <th>1</th>\n",
       "      <td>United States</td>\n",
       "      <td>Chicago</td>\n",
       "      <td>L030</td>\n",
       "      <td>0.83</td>\n",
       "      <td>0.1600</td>\n",
       "      <td>0.5</td>\n",
       "      <td>0.1675</td>\n",
       "    </tr>\n",
       "    <tr>\n",
       "      <th>2</th>\n",
       "      <td>United States</td>\n",
       "      <td>Hazelton</td>\n",
       "      <td>L100</td>\n",
       "      <td>0.69</td>\n",
       "      <td>0.1600</td>\n",
       "      <td>0.4</td>\n",
       "      <td>0.1250</td>\n",
       "    </tr>\n",
       "    <tr>\n",
       "      <th>3</th>\n",
       "      <td>United States</td>\n",
       "      <td>Lima</td>\n",
       "      <td>L130</td>\n",
       "      <td>0.57</td>\n",
       "      <td>0.1050</td>\n",
       "      <td>0.3</td>\n",
       "      <td>0.1650</td>\n",
       "    </tr>\n",
       "    <tr>\n",
       "      <th>4</th>\n",
       "      <td>United States</td>\n",
       "      <td>Litiz</td>\n",
       "      <td>Litiz</td>\n",
       "      <td>0.59</td>\n",
       "      <td>0.1275</td>\n",
       "      <td>0.3</td>\n",
       "      <td>0.1650</td>\n",
       "    </tr>\n",
       "  </tbody>\n",
       "</table>\n",
       "</div>"
      ],
      "text/plain": [
       "         Country            Name SAP ID  Total  Complexity  Ebitda  Effort\n",
       "0  United States  Tabler Station   L090   0.81      0.1450     0.5  0.1650\n",
       "1  United States         Chicago   L030   0.83      0.1600     0.5  0.1675\n",
       "2  United States        Hazelton   L100   0.69      0.1600     0.4  0.1250\n",
       "3  United States            Lima   L130   0.57      0.1050     0.3  0.1650\n",
       "4  United States           Litiz  Litiz   0.59      0.1275     0.3  0.1650"
      ]
     },
     "execution_count": 3,
     "metadata": {},
     "output_type": "execute_result"
    }
   ],
   "source": [
    "minha_matriz= pd.read_csv('plant_rnkg.csv')\n",
    "minha_matriz.head(5)"
   ]
  },
  {
   "cell_type": "markdown",
   "metadata": {},
   "source": [
    "# Adding Continent\n"
   ]
  },
  {
   "cell_type": "code",
   "execution_count": 4,
   "metadata": {},
   "outputs": [
    {
     "data": {
      "text/plain": [
       "United States     13\n",
       "Portugal          13\n",
       "Brasil             7\n",
       "Spain              7\n",
       "England            7\n",
       "France             5\n",
       "Canada             3\n",
       "Poland             3\n",
       "Czech Republic     2\n",
       "Mexico             2\n",
       "Netherland         2\n",
       "Ukraine            1\n",
       "Russia             1\n",
       "Italy              1\n",
       "Vietnam            1\n",
       "Name: Country, dtype: int64"
      ]
     },
     "execution_count": 4,
     "metadata": {},
     "output_type": "execute_result"
    }
   ],
   "source": [
    "minha_matriz['Country'].value_counts()"
   ]
  },
  {
   "cell_type": "code",
   "execution_count": 5,
   "metadata": {},
   "outputs": [],
   "source": [
    "len(minha_matriz.columns)\n",
    "America=['United States','Brasil','Canada','Mexico']\n",
    "Asia=['Vietnam']\n",
    "Continent=[]\n",
    "Color=[]\n",
    "for plant in minha_matriz['Country']:\n",
    "    if plant in America:\n",
    "        Continent.append('America')\n",
    "        Color.append(1)\n",
    "    elif plant in Asia :\n",
    "        Continent.append('Asia')\n",
    "        Color.append(2)\n",
    "    else:\n",
    "        Continent.append('Europe')\n",
    "        Color.append(3)\n",
    "\n",
    "minha_matriz['Continent']=Continent\n",
    "minha_matriz['Color']=Color\n"
   ]
  },
  {
   "cell_type": "markdown",
   "metadata": {},
   "source": [
    "# Top 10 plants and their rankings, total and continent"
   ]
  },
  {
   "cell_type": "code",
   "execution_count": 6,
   "metadata": {},
   "outputs": [
    {
     "data": {
      "text/html": [
       "<div>\n",
       "<style scoped>\n",
       "    .dataframe tbody tr th:only-of-type {\n",
       "        vertical-align: middle;\n",
       "    }\n",
       "\n",
       "    .dataframe tbody tr th {\n",
       "        vertical-align: top;\n",
       "    }\n",
       "\n",
       "    .dataframe thead th {\n",
       "        text-align: right;\n",
       "    }\n",
       "</style>\n",
       "<table border=\"1\" class=\"dataframe\">\n",
       "  <thead>\n",
       "    <tr style=\"text-align: right;\">\n",
       "      <th></th>\n",
       "      <th>Country</th>\n",
       "      <th>Name</th>\n",
       "      <th>SAP ID</th>\n",
       "      <th>Total</th>\n",
       "      <th>Complexity</th>\n",
       "      <th>Ebitda</th>\n",
       "      <th>Effort</th>\n",
       "      <th>Continent</th>\n",
       "      <th>Color</th>\n",
       "    </tr>\n",
       "  </thead>\n",
       "  <tbody>\n",
       "    <tr>\n",
       "      <th>0</th>\n",
       "      <td>United States</td>\n",
       "      <td>Chicago</td>\n",
       "      <td>L030</td>\n",
       "      <td>0.83</td>\n",
       "      <td>0.1600</td>\n",
       "      <td>0.5</td>\n",
       "      <td>0.1675</td>\n",
       "      <td>America</td>\n",
       "      <td>1</td>\n",
       "    </tr>\n",
       "    <tr>\n",
       "      <th>1</th>\n",
       "      <td>United States</td>\n",
       "      <td>Tabler Station</td>\n",
       "      <td>L090</td>\n",
       "      <td>0.81</td>\n",
       "      <td>0.1450</td>\n",
       "      <td>0.5</td>\n",
       "      <td>0.1650</td>\n",
       "      <td>America</td>\n",
       "      <td>1</td>\n",
       "    </tr>\n",
       "    <tr>\n",
       "      <th>2</th>\n",
       "      <td>United States</td>\n",
       "      <td>Hazelton</td>\n",
       "      <td>L100</td>\n",
       "      <td>0.69</td>\n",
       "      <td>0.1600</td>\n",
       "      <td>0.4</td>\n",
       "      <td>0.1250</td>\n",
       "      <td>America</td>\n",
       "      <td>1</td>\n",
       "    </tr>\n",
       "    <tr>\n",
       "      <th>3</th>\n",
       "      <td>United States</td>\n",
       "      <td>Litiz</td>\n",
       "      <td>Litiz</td>\n",
       "      <td>0.59</td>\n",
       "      <td>0.1275</td>\n",
       "      <td>0.3</td>\n",
       "      <td>0.1650</td>\n",
       "      <td>America</td>\n",
       "      <td>1</td>\n",
       "    </tr>\n",
       "    <tr>\n",
       "      <th>4</th>\n",
       "      <td>United States</td>\n",
       "      <td>Lima</td>\n",
       "      <td>L130</td>\n",
       "      <td>0.57</td>\n",
       "      <td>0.1050</td>\n",
       "      <td>0.3</td>\n",
       "      <td>0.1650</td>\n",
       "      <td>America</td>\n",
       "      <td>1</td>\n",
       "    </tr>\n",
       "  </tbody>\n",
       "</table>\n",
       "</div>"
      ],
      "text/plain": [
       "         Country            Name SAP ID  Total  Complexity  Ebitda  Effort  \\\n",
       "0  United States         Chicago   L030   0.83      0.1600     0.5  0.1675   \n",
       "1  United States  Tabler Station   L090   0.81      0.1450     0.5  0.1650   \n",
       "2  United States        Hazelton   L100   0.69      0.1600     0.4  0.1250   \n",
       "3  United States           Litiz  Litiz   0.59      0.1275     0.3  0.1650   \n",
       "4  United States            Lima   L130   0.57      0.1050     0.3  0.1650   \n",
       "\n",
       "  Continent  Color  \n",
       "0   America      1  \n",
       "1   America      1  \n",
       "2   America      1  \n",
       "3   America      1  \n",
       "4   America      1  "
      ]
     },
     "execution_count": 6,
     "metadata": {},
     "output_type": "execute_result"
    }
   ],
   "source": [
    "minha_matriz.sort_values(['Total'],ascending=False, inplace=True)\n",
    "\n",
    "minha_matriz.reset_index(drop=True, inplace=True)\n",
    "\n",
    "minha_matriz\n",
    "top10_total=minha_matriz.head(10)\n",
    "top10_total.reset_index(drop=True, inplace=True)\n",
    "\n",
    "\n",
    "top10_europe=minha_matriz[minha_matriz.Continent.isin(['Europe'])].head(10)\n",
    "top10_europe.reset_index(drop=True, inplace=True)\n",
    "top10_america=minha_matriz[minha_matriz.Continent.isin(['America'])].head(10)\n",
    "top10_america.reset_index(drop=True, inplace=True)\n",
    "top10_america.head(5)"
   ]
  },
  {
   "cell_type": "markdown",
   "metadata": {},
   "source": [
    "# Top 10 overall\n"
   ]
  },
  {
   "cell_type": "code",
   "execution_count": 7,
   "metadata": {},
   "outputs": [
    {
     "name": "stdout",
     "output_type": "stream",
     "text": [
      "SAP ID            Name  Total  Complexity  Ebitda  Effort\n",
      "  L030         Chicago   0.83      0.1600     0.5  0.1675\n",
      "  L090  Tabler Station   0.81      0.1450     0.5  0.1650\n",
      "  L100        Hazelton   0.69      0.1600     0.4  0.1250\n",
      " Litiz           Litiz   0.59      0.1275     0.3  0.1650\n",
      "  L130            Lima   0.57      0.1050     0.3  0.1650\n",
      "  L060     Kansas City   0.52      0.1375     0.3  0.0825\n",
      "  L040      Plainfield   0.50      0.1150     0.3  0.0825\n",
      "  H010         Elst BV   0.42      0.1825     0.2  0.0400\n",
      "  B309        Mealhada   0.41      0.1475     0.2  0.0625\n",
      "  L051       Racine II   0.35      0.1250     0.1  0.1225\n"
     ]
    }
   ],
   "source": [
    "print(top10_total[['SAP ID','Name','Total','Complexity','Ebitda','Effort']].to_string(index=False))"
   ]
  },
  {
   "cell_type": "markdown",
   "metadata": {},
   "source": [
    "# Graph Top 10 Geral"
   ]
  },
  {
   "cell_type": "code",
   "execution_count": 16,
   "metadata": {},
   "outputs": [
    {
     "data": {
      "image/png": "[encoded data removed]",
      "text/plain": [
       "<Figure size 432x288 with 1 Axes>"
      ]
     },
     "metadata": {
      "needs_background": "light"
     },
     "output_type": "display_data"
    }
   ],
   "source": [
    "x=top10_total['Effort']\n",
    "y=top10_total['Ebitda']\n",
    "z=top10_total['Complexity']*3000\n",
    "z1=top10_total['Complexity']\n",
    "c=top10_total['Color']\n",
    "xd=top10_total['Continent']\n",
    "names=top10_total['Name']\n",
    "\n",
    "scat=plt.scatter(x,y,z, marker='o', facecolors='none', edgecolors='r')\n",
    "plt.title('Top 10 Plants')\n",
    "plt.xlabel('Ease of implementing')\n",
    "plt.ylabel('EBITDA')\n",
    "plt.yticks([0,0.5])\n",
    "plt.xticks([0,0.18])\n",
    "#plt.legend()\n",
    "#legend1 = scat.legend(*scatter.legend_elements(),\n",
    " #                   loc=\"lower left\", title=\"Classes\")\n",
    "#scat.add_artist(legend1)\n",
    "for i in range(0,9,2):\n",
    "    plt.annotate(names[i],xy=(x[i],y[i]), xytext =(0,z1[i]*100),textcoords = 'offset points', ha= 'right', va = 'bottom')\n",
    "    \n",
    "for i in range(1,10,2):\n",
    "    plt.annotate(names[i],xy=(x[i],y[i]), xytext =(0,-z1[i]*100),textcoords = 'offset points', ha= 'right', va = 'bottom')"
   ]
  },
  {
   "cell_type": "code",
   "execution_count": 15,
   "metadata": {},
   "outputs": [
    {
     "data": {
      "image/png": "[encoded data removed]",
      "text/plain": [
       "<Figure size 432x288 with 1 Axes>"
      ]
     },
     "metadata": {
      "needs_background": "light"
     },
     "output_type": "display_data"
    }
   ],
   "source": [
    "x0=top10_america['Effort']\n",
    "y0=top10_america['Ebitda']\n",
    "z0=top10_america['Complexity']*3000\n",
    "z10=top10_america['Complexity']\n",
    "c0=top10_america['Color']\n",
    "#xd=top10_america['Continent']\n",
    "names=top10_america['Name']\n",
    "\n",
    "scat=plt.scatter(x0,y0,z0, marker='o', facecolors='none', edgecolors='r')\n",
    "plt.title('Top 10 Plants in America')\n",
    "plt.xlabel('Effort')\n",
    "plt.ylabel('EBITDA')\n",
    "plt.yticks([0,0.5])\n",
    "plt.xticks([0,0.18])\n",
    "#plt.legend()\n",
    "#legend1 = scat.legend(*scatter.legend_elements(),\n",
    " #                   loc=\"lower left\", title=\"Classes\")\n",
    "#scat.add_artist(legend1)\n",
    "for i in range(0,9,2):\n",
    "    plt.annotate(names[i],xy=(x0[i],y0[i]), xytext =(0,z10[i]*100),textcoords = 'offset points', ha= 'right', va = 'bottom')\n",
    "    \n",
    "for i in range(1,10,2):\n",
    "    plt.annotate(names[i],xy=(x0[i],y0[i]), xytext =(0,-z10[i]*100),textcoords = 'offset points', ha= 'right', va = 'bottom')"
   ]
  },
  {
   "cell_type": "code",
   "execution_count": 17,
   "metadata": {},
   "outputs": [
    {
     "data": {
      "image/png": "[encoded data removed]",
      "text/plain": [
       "<Figure size 432x288 with 1 Axes>"
      ]
     },
     "metadata": {
      "needs_background": "light"
     },
     "output_type": "display_data"
    }
   ],
   "source": [
    "x00=top10_europe['Effort']\n",
    "y00=top10_europe['Ebitda']\n",
    "z00=top10_europe['Complexity']*3000\n",
    "z100=top10_europe['Complexity']\n",
    "c00=top10_america['Color']\n",
    "#xd=top10_america['Continent']\n",
    "names=top10_europe['Name']\n",
    "\n",
    "scat=plt.scatter(x00,y00,z00, marker='o', facecolors='none', edgecolors='r')\n",
    "plt.title('Top 10 Plants Europe')\n",
    "plt.xlabel('Effort')\n",
    "plt.ylabel('EBITDA')\n",
    "plt.yticks([0,0.2])\n",
    "plt.xticks([0,0.18])\n",
    "#plt.legend()\n",
    "#legend1 = scat.legend(*scatter.legend_elements(),\n",
    " #                   loc=\"lower left\", title=\"Classes\")\n",
    "#scat.add_artist(legend1)\n",
    "for i in range(0,9,2):\n",
    "    plt.annotate(names[i],xy=(x00[i],y00[i]), xytext =(0,z100[i]*100),textcoords = 'offset points', ha= 'right', va = 'bottom')\n",
    "    \n",
    "for i in range(1,10,2):\n",
    "    plt.annotate(names[i],xy=(x00[i],y00[i]), xytext =(0,-z100[i]*100),textcoords = 'offset points', ha= 'right', va = 'bottom')"
   ]
  },
  {
   "cell_type": "code",
   "execution_count": 175,
   "metadata": {},
   "outputs": [
    {
     "data": {
      "image/png": "[encoded data removed]",
      "text/plain": [
       "<Figure size 432x288 with 1 Axes>"
      ]
     },
     "metadata": {
      "needs_background": "light"
     },
     "output_type": "display_data"
    }
   ],
   "source": [
    "x=minha_matriz['Effort']\n",
    "y=minha_matriz['Ebitda']\n",
    "z=minha_matriz['Complexity']*3000\n",
    "z1=minha_matriz['Complexity']\n",
    "c=minha_matriz['Color']\n",
    "xd=minha_matriz['Continent']\n",
    "names=minha_matriz['Name']\n",
    "\n",
    "scat=plt.scatter(x,y,z, marker='o', facecolors='none', edgecolors='r')\n",
    "plt.title('Top 10 Plants')\n",
    "plt.xlabel('Effort')\n",
    "plt.ylabel('EBITDA')\n",
    "#plt.legend()\n",
    "#legend1 = scat.legend(*scatter.legend_elements(),\n",
    " #                   loc=\"lower left\", title=\"Classes\")\n",
    "#scat.add_artist(legend1)\n",
    "for i in range(0,9,2):\n",
    "    plt.annotate(names[i],xy=(x[i],y[i]), xytext =(0,z1[i]*100),textcoords = 'offset points', ha= 'right', va = 'bottom')\n",
    "    \n",
    "for i in range(1,10,2):\n",
    "    plt.annotate(names[i],xy=(x[i],y[i]), xytext =(0,-z1[i]*100),textcoords = 'offset points', ha= 'right', va = 'bottom')"
   ]
  },
  {
   "cell_type": "code",
   "execution_count": null,
   "metadata": {},
   "outputs": [],
   "source": []
  }
 ],
 "metadata": {
  "kernelspec": {
   "display_name": "Python 3",
   "language": "python",
   "name": "python3"
  },
  "language_info": {
   "codemirror_mode": {
    "name": "ipython",
    "version": 3
   },
   "file_extension": ".py",
   "mimetype": "text/x-python",
   "name": "python",
   "nbconvert_exporter": "python",
   "pygments_lexer": "ipython3",
   "version": "3.8.3"
  }
 },
 "nbformat": 4,
 "nbformat_minor": 4
}
